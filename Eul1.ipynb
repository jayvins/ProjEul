{
 "cells": [
  {
   "cell_type": "markdown",
   "id": "34b5b04b",
   "metadata": {},
   "source": [
    "# Project Euler\n"
   ]
  },
  {
   "cell_type": "markdown",
   "id": "5d489864",
   "metadata": {},
   "source": [
    "## Problem 1: Multiples of 3 or 5\n",
    "\n",
    "If we list all the natural numbers below 10 that are multiples of 3 or 5, we get 3, 5, 6 and 9. The sum of these multiples is 23.\n",
    "\n",
    "Find the sum of all the multiples of 3 or 5 below 1000."
   ]
  },
  {
   "cell_type": "markdown",
   "id": "6a4f4b24",
   "metadata": {},
   "source": [
    "## Solution\n",
    "\n",
    "Since 3 and 5 are coprime, we can confine ourselves to the simpler case of taking any two coprime integers (which we shall call $p$ and $q$) plus some further integer $n$ to serve as the upper limit up to which we shall sum. Assuming that p and q are coprime means that their least common factor is their product. \n",
    "\n",
    "For each integer $x$, Euclid's algorithm will guarantee the existence of a unique pair of non-negative integers $k$ and $r$, with $r < pq$, such that $x = kpq + r$. Specifically we have some $k_{n}$, $r_{n}$ such that $n = k_{n}pq + r_{n}$.\n",
    "\n",
    "Let $X$ denote the set of non-negative integers bounded by $n$ divisble by $p$ or $q$ (i.e. the set over which we wish to sum).\n",
    "\n",
    "$\n",
    "X = \\{ x < n :  (p\\vert x)\\vee (q\\vert x)\\} \\\\\n",
    "= \\{ kpq + r : (p\\vert r)\\vee (q\\vert r)\\} \\\\\n",
    "       =\\bigcup\\limits_{k=0}^{k_{n}-1}\\{kpq + r  : (p\\vert r)\\vee (q\\vert r)\\} \\cup \\{k_{n}pq + r  :(r < r_{n})\\wedge ( (p\\vert r)\\vee (q\\vert r) )\\}       \n",
    "$\n",
    "       \n",
    "Let $R$ denote the set of admissble remainders that are divisble by $p$ or $q$, and $R_{n}$ the subset of $R$ bounded by $r_{n}$.\n",
    "\n",
    "$R = \\{ 0 \\leq r < pq :  (p\\vert r)\\vee (q\\vert r)\\} $\n",
    "\n",
    "$R_{n} = \\{ 0 \\leq r < r_{n} : (p\\vert r)\\vee (q\\vert r)\\} $\n",
    "\n",
    "Then\n",
    "\n",
    "$X = (\\bigcup\\limits_{k=0}^{k_{n}-1}\\bigcup\\limits_{r\\in R} \\{kpq + r \\} )\\cup (\\bigcup\\limits_{r\\in R_{n}}\\{k_{n}pq + r  \\})$\n",
    "\n",
    "and therefore since addition is linear\n",
    "\n",
    "$\\sum\\limits_{x\\in X} x = (\\sum\\limits_{k=0}^{k_{n}-1}\\sum\\limits_{r\\in R} kpq + r  ) + (\\sum\\limits_{r\\in R_{n}}k_{n}pq + r  )\\\\\n",
    "= (\\sum\\limits_{k=0}^{k_{n}-1}\\sum\\limits_{r\\in R} kpq) + (\\sum\\limits_{k=0}^{k_{n}-1}\\sum\\limits_{r\\in R} r ) + (\\sum\\limits_{r\\in R_{n}} k_{n}pq) + (\\sum\\limits_{r\\in R_{n}} r  )\\\\\n",
    "= (pq \\sum\\limits_{k=0}^{k_{n}-1}\\sum\\limits_{r\\in R} k) + (k_{n}\\sum\\limits_{r\\in R} r ) + (\\vert R_{n}\\vert k_{n}pq) + (\\sum\\limits_{r\\in R_{n}} r  ) \\\\  \n",
    "=(pq \\vert R\\vert\\sum\\limits_{k=0}^{k_{n}-1} k) + (k_{n}\\sum\\limits_{r\\in R} r ) + (\\vert R_{n}\\vert k_{n}pq) + (\\sum\\limits_{r\\in R_{n}} r  )\\\\\n",
    "= (pq \\vert R\\vert\\frac{(k_{n}-1)k_{n}}{2}) + (k_{n}\\sum\\limits_{r\\in R} r ) + (\\vert R_{n}\\vert k_{n}pq) + (\\sum\\limits_{r\\in R_{n}} r  )$\n",
    "\n",
    "Then we simply need to find $R$ and $R_{n}$, and compute the size and sum of each of these sets. "
   ]
  },
  {
   "cell_type": "code",
   "execution_count": 17,
   "id": "b6815cf7",
   "metadata": {},
   "outputs": [],
   "source": [
    "def coprime_sum( p, q, n ):\n",
    "    prod = p * q\n",
    "    \n",
    "    ## Using Euclid's algorithm, n = div * prod + rem    \n",
    "    rem = n%prod \n",
    "    div = (n - rem )/prod\n",
    "    \n",
    "    ## We populate R with all possible divisors\n",
    "    R = list()\n",
    "    for x in range(0,prod):\n",
    "        if( (x%p == 0) or (x%q == 0 )):\n",
    "           R.append(x)\n",
    "        \n",
    "    ## We populate Rn by filtering R\n",
    "    Rn = list(filter(lambda x: x < rem, R))\n",
    "        \n",
    "    ## We compute the sizes of R and Rn      \n",
    "    mod_R = len( R )\n",
    "    mod_Rn = len( Rn )\n",
    "    \n",
    "    ## We compute the sums over R and Rn \n",
    "    R_sum = sum(R)\n",
    "    Rn_sum = sum(Rn)\n",
    "    \n",
    "    ## We compute the sum of all pqk+r with k < div\n",
    "    sum_d = (prod * mod_R) * ( (div * (div - 1)) / 2 ) + div * R_sum\n",
    "    \n",
    "    ## We compute the sum of all pq div + r with r < rem\n",
    "    sum_r = (prod * div * mod_Rn ) + Rn_sum\n",
    "    \n",
    "    \n",
    "    ## Finally we add these for the total sum\n",
    "    sum_total = sum_d + sum_r\n",
    "    \n",
    "    return sum_total\n"
   ]
  },
  {
   "cell_type": "markdown",
   "id": "e74a9f06",
   "metadata": {},
   "source": [
    "We can verify the result given in the question by checking that coprime_sum(3,5,10) = 23"
   ]
  },
  {
   "cell_type": "code",
   "execution_count": 18,
   "id": "56b4601c",
   "metadata": {},
   "outputs": [
    {
     "data": {
      "text/plain": [
       "23.0"
      ]
     },
     "execution_count": 18,
     "metadata": {},
     "output_type": "execute_result"
    }
   ],
   "source": [
    "coprime_sum(3,5,10)\n"
   ]
  },
  {
   "cell_type": "markdown",
   "id": "920c64c7",
   "metadata": {},
   "source": [
    "Then the solution to the question is given by coprime_sum(3,5,1000) : "
   ]
  },
  {
   "cell_type": "code",
   "execution_count": 19,
   "id": "7e1d3aae",
   "metadata": {},
   "outputs": [
    {
     "data": {
      "text/plain": [
       "233168.0"
      ]
     },
     "execution_count": 19,
     "metadata": {},
     "output_type": "execute_result"
    }
   ],
   "source": [
    "coprime_sum(3,5,1000)"
   ]
  }
 ],
 "metadata": {
  "kernelspec": {
   "display_name": "Python 3 (ipykernel)",
   "language": "python",
   "name": "python3"
  },
  "language_info": {
   "codemirror_mode": {
    "name": "ipython",
    "version": 3
   },
   "file_extension": ".py",
   "mimetype": "text/x-python",
   "name": "python",
   "nbconvert_exporter": "python",
   "pygments_lexer": "ipython3",
   "version": "3.9.7"
  }
 },
 "nbformat": 4,
 "nbformat_minor": 5
}
